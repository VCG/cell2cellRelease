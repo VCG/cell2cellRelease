{
 "cells": [
  {
   "cell_type": "code",
   "execution_count": 15,
   "metadata": {},
   "outputs": [],
   "source": [
    "import numpy as np\n",
    "import h5py\n",
    "import matplotlib.pyplot as plt"
   ]
  },
  {
   "cell_type": "code",
   "execution_count": 16,
   "metadata": {},
   "outputs": [],
   "source": [
    "f = h5py.File('../../data/cube_test.h5', 'r')\n",
    "vertices = f['vertices'][:]\n",
    "edges = f['edges'][:]\n",
    "radius = f['radius'][()]\n",
    "images = f['image']\n",
    "channels = list(images.keys())"
   ]
  },
  {
   "cell_type": "code",
   "execution_count": 17,
   "metadata": {},
   "outputs": [],
   "source": [
    "dna1c = images['DNA1']"
   ]
  },
  {
   "cell_type": "code",
   "execution_count": 92,
   "metadata": {},
   "outputs": [],
   "source": [
    "def get_voxels_within_radius(center, radius, shape):\n",
    "    arr = np.zeros(shape)\n",
    "\n",
    "    # create a meshgrid of indices\n",
    "    z, y, x = np.meshgrid(np.arange(arr.shape[0]), np.arange(arr.shape[1]), np.arange(arr.shape[2]), indexing='ij')\n",
    "    indices = np.stack([z, y, x], axis=-1)\n",
    "\n",
    "    # calculate the Euclidean distance between each voxel and the center\n",
    "    distances = np.linalg.norm(indices - center, axis=-1)\n",
    "\n",
    "    # get the boolean array indicating which voxels are within the radius from the center\n",
    "    within_radius = distances <= radius\n",
    "\n",
    "    # get the indices of the voxels that are within the radius from the center\n",
    "    indices_within_radius = indices[within_radius]\n",
    "    \n",
    "    return indices_within_radius\n",
    "    \n",
    "def calculate_angles(voxels, center):\n",
    "    # subtract the center from the voxels and ignore the first dimension\n",
    "    vecs = voxels[:, 1:] - center[1:]\n",
    "    # calculate the angles using arctan2\n",
    "    angles = np.arctan2(vecs[:, 0], vecs[:, 1])\n",
    "    angles_percent = ((angles / (2 * np.pi)) + 0.5) * 100\n",
    "    return angles_percent\n",
    "\n",
    "def get_polarization(channel, radius, threshold):\n",
    "    with h5py.File('../../data/cube_test.h5', 'r') as f:\n",
    "        centers = f['vertices']\n",
    "        cube = f['image'][channel][:]\n",
    "        cube = np.where(cube > threshold, 1, 0)\n",
    "        regions = np.zeros((len(centers),10))\n",
    "        for i, center in enumerate(centers):\n",
    "            voxels = get_voxels_within_radius(center, radius, cube.shape)\n",
    "            angles = calculate_angles(voxels, center)\n",
    "            \n",
    "            for ri, a in enumerate(range(0, 100, 10)):\n",
    "                for j, angle in enumerate(angles):\n",
    "                    if a <= angle < a + 10:\n",
    "                        regions[i,ri] += cube[voxels[j][0], voxels[j][1], voxels[j][2]]\n",
    "                \n",
    "    return regions\n"
   ]
  },
  {
   "cell_type": "code",
   "execution_count": 94,
   "metadata": {},
   "outputs": [
    {
     "name": "stdout",
     "output_type": "stream",
     "text": [
      "[[0. 0. 0. 0. 0. 0. 0. 0. 0. 0.]\n",
      " [0. 0. 0. 0. 0. 0. 0. 0. 0. 5.]\n",
      " [0. 0. 0. 0. 0. 0. 0. 0. 0. 0.]\n",
      " [0. 0. 0. 0. 0. 0. 0. 0. 0. 0.]\n",
      " [0. 0. 0. 0. 0. 0. 0. 0. 0. 0.]\n",
      " [0. 0. 0. 0. 0. 0. 0. 0. 0. 0.]\n",
      " [0. 0. 0. 0. 0. 0. 0. 0. 0. 0.]\n",
      " [0. 0. 0. 0. 0. 0. 0. 0. 0. 0.]\n",
      " [0. 0. 0. 0. 0. 0. 0. 0. 0. 0.]]\n"
     ]
    }
   ],
   "source": [
    "get_polarization('HLAA', 10, 0.1)"
   ]
  },
  {
   "cell_type": "code",
   "execution_count": 95,
   "metadata": {},
   "outputs": [],
   "source": [
    "f.close()"
   ]
  },
  {
   "cell_type": "code",
   "execution_count": null,
   "metadata": {},
   "outputs": [],
   "source": []
  }
 ],
 "metadata": {
  "kernelspec": {
   "display_name": "melanoma_analysis",
   "language": "python",
   "name": "python3"
  },
  "language_info": {
   "codemirror_mode": {
    "name": "ipython",
    "version": 3
   },
   "file_extension": ".py",
   "mimetype": "text/x-python",
   "name": "python",
   "nbconvert_exporter": "python",
   "pygments_lexer": "ipython3",
   "version": "3.7.16"
  },
  "orig_nbformat": 4,
  "vscode": {
   "interpreter": {
    "hash": "9306c13d1d2e33cb1426e75c9e991f87b613050d7783704221923e339ced936f"
   }
  }
 },
 "nbformat": 4,
 "nbformat_minor": 2
}
