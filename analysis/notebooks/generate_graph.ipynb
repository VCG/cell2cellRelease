{
 "cells": [
  {
   "cell_type": "code",
   "execution_count": 44,
   "id": "117f2fd8-b847-45ba-b53a-65dabe5aa0e0",
   "metadata": {},
   "outputs": [],
   "source": [
    "import numpy as np\n",
    "import h5py\n",
    "import tifffile\n",
    "import scipy as sp\n",
    "import scipy.spatial as sptl\n",
    "import scipy.sparse as sprs\n",
    "from skimage.measure import regionprops, regionprops_table\n",
    "from skimage.draw import line_nd\n",
    "from skimage.morphology import ball\n",
    "import matplotlib.pyplot as plt\n",
    "from tqdm import tqdm\n",
    "import nrrd\n",
    "import pandas as pd\n",
    "import seaborn as sns"
   ]
  },
  {
   "cell_type": "code",
   "execution_count": 13,
   "id": "9aa1e914",
   "metadata": {},
   "outputs": [],
   "source": [
    "marker_names = [\"DNA1\",\"PD1\",\"TLR3\",\"SOX10\",\"DNA2\",\"CD163\",\n",
    "\"CD3D\",\"PDL1\",\"DNA3\",\"CD4\",\"ICOS\",\"HLADPB1\",\"DNA4\",\"CD8A\",\n",
    "\"CD68\",\"GZMB\",\"DNA5\",\"CD40L\",\"LAG3\",\"HLAA\",\"DNA6\",\"SQSTM\",\n",
    "\"VIN\",\"TIM3\",\"DNA7\",\"LAMP1_CD107A\",\"PDL1_2\",\"PD1_2\", \"DNA_masks\", \n",
    "\"HLAA_masks\", \"DNA_binary_masks\", \"HLAA_binary_masks\"]"
   ]
  },
  {
   "cell_type": "code",
   "execution_count": 26,
   "id": "4c60c589",
   "metadata": {},
   "outputs": [],
   "source": [
    "def generate_cube(filename):\n",
    "    img = tifffile.imread(filename)\n",
    "    img = np.moveaxis(img, 0, 1)\n",
    "    with h5py.File(\"data/cube.h5\", \"w\") as cube:\n",
    "        for i, c in enumerate(marker_names):\n",
    "            cube.create_dataset(c, data=img[i])\n",
    "\n",
    "def load_channel(channel_name=None):\n",
    "    with h5py.File(\"data/cube.h5\", \"r\") as cubef:\n",
    "        if channel_name != None:\n",
    "            return np.array(cubef[channel_name])\n",
    "        return cubef\n",
    "\n",
    "def load_cube(channel_names):\n",
    "    with h5py.File(\"data/cube.h5\", \"r\") as cubef:\n",
    "        cube = [np.array(cubef[c]) for c in channel_names]\n",
    "        cube = np.stack(cube)\n",
    "        return cube\n",
    "\n",
    "def get_nuclei_centers(channel):\n",
    "    regions = regionprops(channel)\n",
    "    centers = [region.centroid for region in regions]\n",
    "    return np.array(centers, dtype=int)\n",
    "\n",
    "def get_delaunay_edges(points):\n",
    "    tri = sptl.Delaunay(points)\n",
    "    lil = sprs.lil_matrix((tri.npoints, tri.npoints))\n",
    "\n",
    "    indices, indptr = tri.vertex_neighbor_vertices\n",
    "    for k in range(tri.npoints):\n",
    "        lil.rows[k] = indptr[indices[k]:indices[k+1]].tolist()\n",
    "        lil.data[k] = np.ones_like(lil.rows[k]).tolist()\n",
    "\n",
    "    coo = lil.tocoo()\n",
    "    conns = np.vstack((coo.row, coo.col)).T\n",
    "    delaunay_conns = np.sort(conns, axis=1)\n",
    "    return delaunay_conns, tri\n",
    "\n",
    "def get_gabriel_graph(tri, delaunay_conns):\n",
    "    c = tri.points[delaunay_conns]\n",
    "    m = (c[:, 0, :] + c[:, 1, :])/2\n",
    "    r = np.sqrt(np.sum((c[:, 0, :] - c[:, 1, :])**2, axis=1))/2\n",
    "\n",
    "\n",
    "    tree = sptl.cKDTree(points)\n",
    "    n = tree.query(x=m, k=1)[0]\n",
    "    g = n >= r*(0.999)\n",
    "    gabriel_conns = delaunay_conns[g]\n",
    "    edges = []\n",
    "    for edge in gabriel_conns:\n",
    "        found = False\n",
    "        for controll in edges:\n",
    "            if controll[0] == edge[0] and controll[1] == edge[1]:\n",
    "                found = True\n",
    "                break\n",
    "        if not found:\n",
    "            edges.append(edge)\n",
    "    return edges\n",
    "\n",
    "def generate_visual_edges(gabriel_conns, shape, radius):\n",
    "    visual_graph = np.zeros(shape, dtype=np.uint16)\n",
    "    for i, gabriel_con in tqdm(enumerate(gabriel_conns), total=len(gabriel_conns)):\n",
    "        start = points[gabriel_con[0]]\n",
    "        end = points[gabriel_con[1]]\n",
    "        edge = line_nd(start, end)\n",
    "        edge = np.transpose(edge)\n",
    "        for point in edge:\n",
    "            visual_graph[point[0], point[1], point[2]] = i\n",
    "            new_points = thicken_line(point, radius)\n",
    "            for new_point in new_points:\n",
    "                visual_graph[point[0], point[1], point[2]] = i\n",
    "                \n",
    "    visual_graph = np.expand_dims(visual_graph, 0)\n",
    "    return visual_graph\n",
    "\n",
    "def thicken_line(point, radius):\n",
    "    point = np.array(point)\n",
    "    sphere = np.transpose(np.nonzero(ball(radius)))\n",
    "    for coord in sphere:\n",
    "        for dim in range(len(point)):\n",
    "            coord[dim] += (point[dim]-radius)\n",
    "    sphere = np.where(sphere > 0, sphere, 0)\n",
    "    return sphere\n",
    "\n",
    "def save_graph(verteces, edges, filename):\n",
    "    with h5py.File(filename, \"w\") as f:\n",
    "        f.create_dataset(\"verteces\", data=verteces)\n",
    "        f.create_dataset(\"edges\", data=edges)\n",
    "\n",
    "def generate_nrrds(channels):\n",
    "    for channel_name in tqdm(channels):\n",
    "        marker = load_channel(channel_name)\n",
    "        marker = np.array(marker, dtype=np.float32)\n",
    "        marker = np.moveaxis(marker, 0, -1)\n",
    "        marker = np.moveaxis(marker, 0, 1)\n",
    "        marker /= np.max(marker)\n",
    "        marker *= 255\n",
    "        marker = marker.astype(np.uint8)\n",
    "        nrrd.write(\"data/{}.nrrd\".format(channel_name), marker)\n",
    "\n",
    "def meassure_markers(marker_names, edge_channel):\n",
    "    with h5py.File(\"data/graph.h5\", \"a\") as graph:\n",
    "        edge_channel = np.squeeze(edge_channel)\n",
    "        meansds = graph.create_group(\"means\")\n",
    "        for marker_name in tqdm(marker_names):\n",
    "            means = []\n",
    "            marker = load_channel(marker_name)\n",
    "            marker = np.array(marker, dtype=np.float32)\n",
    "            marker /= np.max(marker)\n",
    "            for edge in np.unique(edge_channel):\n",
    "                edge_coords = np.where(edge_channel == edge)\n",
    "                means.append(np.mean(marker[edge_coords]))\n",
    "            meansds.create_dataset(marker_name, data=means)"
   ]
  },
  {
   "cell_type": "code",
   "execution_count": 27,
   "id": "908e5681",
   "metadata": {},
   "outputs": [],
   "source": [
    "filename = 'data/20_R3D_D3D_3D_MERGED.tif'\n",
    "targetname = 'data/20_graph.tif'\n",
    "generate_cube(filename)\n",
    "dna_masks = load_channel(\"DNA_masks\")\n",
    "points = get_nuclei_centers(dna_masks)\n",
    "delaunay_conns, tri = get_delaunay_edges(points)\n",
    "gabriel_conns = get_gabriel_graph(tri, delaunay_conns)\n",
    "save_graph(points, gabriel_conns, \"data/graph.h5\")\n",
    "#generate_nrrds(marker_names)\n",
    "#edge_channel = generate_visual_edges(gabriel_conns, dna_masks.shape, 8)\n",
    "#cube = load_cube(marker_names)\n",
    "#cube = np.append(cube, edge_channel, axis=0)\n",
    "#cube = np.moveaxis(cube, 0, 1)\n",
    "#tifffile.imwrite(targetname, cube, imagej=True)"
   ]
  },
  {
   "cell_type": "code",
   "execution_count": 29,
   "id": "4ceb4684",
   "metadata": {},
   "outputs": [
    {
     "name": "stdout",
     "output_type": "stream",
     "text": [
      "902\n"
     ]
    }
   ],
   "source": [
    "with h5py.File(\"data/graph.h5\", \"r\") as f:\n",
    "    edges = f['edges']\n",
    "    print(len(edges))"
   ]
  },
  {
   "cell_type": "code",
   "execution_count": 23,
   "id": "9c3c01eb",
   "metadata": {},
   "outputs": [
    {
     "name": "stderr",
     "output_type": "stream",
     "text": [
      "100%|██████████| 1804/1804 [00:27<00:00, 64.77it/s] \n"
     ]
    },
    {
     "name": "stdout",
     "output_type": "stream",
     "text": [
      "902\n"
     ]
    }
   ],
   "source": [
    "filename = 'data/20_R3D_D3D_3D_MERGED.tif'\n",
    "generate_cube(filename)\n",
    "dna_masks = load_channel(\"DNA_masks\")\n",
    "points = get_nuclei_centers(dna_masks)\n",
    "delaunay_conns, tri = get_delaunay_edges(points)\n",
    "gabriel_conns = get_gabriel_graph(tri, delaunay_conns)\n",
    "edge_channel = generate_visual_edges(gabriel_conns, dna_masks.shape, 4)\n",
    "print(len(np.unique(edge_channel)))"
   ]
  },
  {
   "cell_type": "code",
   "execution_count": 42,
   "id": "87f530bd",
   "metadata": {},
   "outputs": [],
   "source": [
    "dna_masks = load_channel(\"DNA_masks\")\n",
    "props = regionprops_table(dna_masks, properties=('area',\n",
    "                                                 'axis_major_length',\n",
    "                                                 'axis_minor_length'))\n",
    "df = pd.DataFrame(props)"
   ]
  },
  {
   "cell_type": "code",
   "execution_count": 47,
   "id": "9ff345f9",
   "metadata": {},
   "outputs": [
    {
     "data": {
      "text/plain": [
       "<AxesSubplot:xlabel='area', ylabel='Count'>"
      ]
     },
     "execution_count": 47,
     "metadata": {},
     "output_type": "execute_result"
    },
    {
     "data": {
      "image/png": "[encoded data removed]",
      "text/plain": [
       "<Figure size 432x288 with 1 Axes>"
      ]
     },
     "metadata": {
      "needs_background": "light"
     },
     "output_type": "display_data"
    }
   ],
   "source": [
    "sns.histplot(df['area'], bins=10)"
   ]
  },
  {
   "cell_type": "code",
   "execution_count": null,
   "id": "72a04174",
   "metadata": {},
   "outputs": [],
   "source": []
  }
 ],
 "metadata": {
  "interpreter": {
   "hash": "05d7c0067ba65d802b0f9016c1ec95e680ea7c7fca6895d40dee4682a6e26acf"
  },
  "kernelspec": {
   "display_name": "Python [conda env:.conda-melanoma_analysis]",
   "language": "python",
   "name": "python3"
  },
  "language_info": {
   "codemirror_mode": {
    "name": "ipython",
    "version": 3
   },
   "file_extension": ".py",
   "mimetype": "text/x-python",
   "name": "python",
   "nbconvert_exporter": "python",
   "pygments_lexer": "ipython3",
   "version": "3.10.0"
  }
 },
 "nbformat": 4,
 "nbformat_minor": 5
}
